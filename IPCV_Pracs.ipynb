{
  "nbformat": 4,
  "nbformat_minor": 0,
  "metadata": {
    "colab": {
      "provenance": []
    },
    "kernelspec": {
      "name": "python3",
      "display_name": "Python 3"
    },
    "language_info": {
      "name": "python"
    }
  },
  "cells": [
    {
      "cell_type": "code",
      "execution_count": null,
      "metadata": {
        "id": "5cg-_-OJgLg9"
      },
      "outputs": [],
      "source": [
        "import cv2\n",
        "from google.colab.patches import cv2_imshow\n",
        "import matplotlib.pyplot as plt\n",
        "import numpy as np\n",
        "import matplotlib.pyplot as plt\n",
        "from tensorflow.keras.datasets import mnist"
      ]
    },
    {
      "cell_type": "markdown",
      "source": [
        "###Exp 1"
      ],
      "metadata": {
        "id": "9IFVEQI3g0Je"
      }
    },
    {
      "cell_type": "markdown",
      "source": [],
      "metadata": {
        "id": "o9hNbL9Sx52D"
      }
    },
    {
      "cell_type": "code",
      "source": [
        "#EXP 1\n",
        "\n",
        "(X_train, y_train), (_, _) = mnist.load_data()\n",
        "\n",
        "# Filter images with digits 6 and 9\n",
        "idx_6 = (np.where(y_train==6)[0]) [0]  #or instead on last [0] you can also do #np.random.choice(idx_6) do chose a random image of the digit\n",
        "idx_9 = (np.where(y_train==9)[0]) [0]\n",
        "\n",
        "# Extract the images\n",
        "image_6 = X_train[idx_6]\n",
        "image_9 = X_train[idx_9]\n",
        "\n",
        "result = np.zeros_like(image_6, dtype=np.uint8)\n",
        "for i in range(image_6.shape[0]):\n",
        "    for j in range(image_6.shape[1]):\n",
        "        result[i, j] = min(image_6[i, j] + image_9[i, j], 255)\n",
        "\n",
        "        #similaly -, *, &, \\, ~, ^\n",
        "\n",
        "        #result[i, j] = max(image_6[i, j] - image_9[i, j], 0)\n",
        "        #result[i, j] = min(image_6[i, j] * image_9[i, j], 255)\n",
        "\n",
        "        # if image_9[i, j] != 0:\n",
        "        #     result[i, j] = image_6[i, j] / image_9[i, j]\n",
        "        # else:\n",
        "        #     result[i, j] = 0\n",
        "\n",
        "result2=np.zeros_like(image_6,dtype=np.uint8)\n",
        "for i in range(image_6.shape[0]):\n",
        "  for j in range (image_6.shape[1]):\n",
        "    result2[i,j]=image_6[i,j] & image_9[i,j]\n",
        "\n",
        "result3=np.zeros_like(image_6,dtype=np.uint8)\n",
        "for i in range(image_6.shape[0]):\n",
        "  for j in range (image_6.shape[1]):\n",
        "    result3[i,j]=0.3*image_6[i,j] + 0.7*image_9[i,j]\n",
        "\n",
        "\n",
        "# Apply the left shift operation pixelwise on image_6\n",
        "result4 = np.zeros_like(image_6)\n",
        "for i in range(image_6.shape[0]):\n",
        "    for j in range(image_6.shape[1]):\n",
        "        result4[i, j] = image_6[i, j]<< 2\n",
        "\n",
        "\n",
        "# Display the images and result\n",
        "plt.figure(figsize=(5, 5))\n",
        "\n",
        "plt.subplot(3,3, 1)\n",
        "plt.imshow(image_6)\n",
        "plt.title('Image 1')\n",
        "plt.axis('off')\n",
        "\n",
        "plt.subplot(3,3, 2)\n",
        "plt.imshow(image_9)\n",
        "plt.title('Image 2')\n",
        "plt.axis('off')\n",
        "\n",
        "plt.subplot(3,3, 3)\n",
        "plt.imshow(result)\n",
        "plt.title('addition')\n",
        "plt.axis('off')\n",
        "\n",
        "plt.subplot(3,3, 4)\n",
        "plt.imshow(result2)\n",
        "plt.title('AND')\n",
        "plt.axis('off')\n",
        "\n",
        "plt.subplot(3,3, 5)\n",
        "plt.imshow(result3)\n",
        "plt.title('BLEND')\n",
        "plt.axis('off')\n",
        "\n",
        "plt.subplot(3,3, 6)\n",
        "plt.imshow(result4)\n",
        "plt.title('LEFTSHIFT')\n",
        "plt.axis('off')"
      ],
      "metadata": {
        "colab": {
          "base_uri": "https://localhost:8080/",
          "height": 419
        },
        "id": "rnJklVxlhQFj",
        "outputId": "24b64206-25d2-4f76-9943-cf87959423bc"
      },
      "execution_count": null,
      "outputs": [
        {
          "output_type": "stream",
          "name": "stdout",
          "text": [
            "Downloading data from https://storage.googleapis.com/tensorflow/tf-keras-datasets/mnist.npz\n",
            "11490434/11490434 [==============================] - 1s 0us/step\n"
          ]
        },
        {
          "output_type": "stream",
          "name": "stderr",
          "text": [
            "<ipython-input-5-0ae19afa30d1>:16: RuntimeWarning: overflow encountered in scalar add\n",
            "  result[i, j] = min(image_6[i, j] + image_9[i, j], 255)\n"
          ]
        },
        {
          "output_type": "execute_result",
          "data": {
            "text/plain": [
              "(-0.5, 27.5, 27.5, -0.5)"
            ]
          },
          "metadata": {},
          "execution_count": 5
        },
        {
          "output_type": "display_data",
          "data": {
            "text/plain": [
              "<Figure size 500x500 with 6 Axes>"
            ],
            "image/png": "[encoded data removed]"
          },
          "metadata": {}
        }
      ]
    },
    {
      "cell_type": "code",
      "source": [
        "image=cv2.imread(\"/content/dogzie.jpeg\")\n",
        "image= cv2.cvtColor(image, cv2.COLOR_BGR2RGB)\n",
        "\n",
        "plt.subplot(1,3, 1)\n",
        "plt.imshow(image)\n",
        "plt.title('OG')\n",
        "plt.axis('off')\n",
        "\n",
        "height, width, channels = image.shape\n",
        "grayscale_image = np.zeros((height, width,channels), dtype=np.uint8)\n",
        "\n",
        "for i in range(height):\n",
        "    for j in range(width):\n",
        "        pixel_value = (image[i][j][0] + image[i][j][1] +\n",
        "                       image[i][j][2] )//3\n",
        "        grayscale_image[i][j] = [(pixel_value),(pixel_value),(pixel_value)]\n",
        "\n",
        "plt.subplot(1,3, 2)\n",
        "plt.imshow(grayscale_image)\n",
        "plt.title('grayscale')\n",
        "plt.axis('off')\n",
        "\n",
        "cropped= image[7:81, 7:91]\n",
        "\n",
        "plt.subplot(1,3, 3)\n",
        "plt.imshow(cropped)\n",
        "plt.title('CROPPED')\n",
        "plt.axis('off')\n"
      ],
      "metadata": {
        "colab": {
          "base_uri": "https://localhost:8080/",
          "height": 238
        },
        "id": "aOjlmwLKuI45",
        "outputId": "e2a920c8-6171-411c-b193-22ad6fc23b44"
      },
      "execution_count": null,
      "outputs": [
        {
          "output_type": "error",
          "ename": "error",
          "evalue": "OpenCV(4.8.0) /io/opencv/modules/imgproc/src/color.cpp:182: error: (-215:Assertion failed) !_src.empty() in function 'cvtColor'\n",
          "traceback": [
            "\u001b[0;31m---------------------------------------------------------------------------\u001b[0m",
            "\u001b[0;31merror\u001b[0m                                     Traceback (most recent call last)",
            "\u001b[0;32m<ipython-input-5-a72c72270b3c>\u001b[0m in \u001b[0;36m<cell line: 2>\u001b[0;34m()\u001b[0m\n\u001b[1;32m      1\u001b[0m \u001b[0mimage\u001b[0m\u001b[0;34m=\u001b[0m\u001b[0mcv2\u001b[0m\u001b[0;34m.\u001b[0m\u001b[0mimread\u001b[0m\u001b[0;34m(\u001b[0m\u001b[0;34m\"/content/dogzie.jpeg\"\u001b[0m\u001b[0;34m)\u001b[0m\u001b[0;34m\u001b[0m\u001b[0;34m\u001b[0m\u001b[0m\n\u001b[0;32m----> 2\u001b[0;31m \u001b[0mimage\u001b[0m\u001b[0;34m=\u001b[0m \u001b[0mcv2\u001b[0m\u001b[0;34m.\u001b[0m\u001b[0mcvtColor\u001b[0m\u001b[0;34m(\u001b[0m\u001b[0mimage\u001b[0m\u001b[0;34m,\u001b[0m \u001b[0mcv2\u001b[0m\u001b[0;34m.\u001b[0m\u001b[0mCOLOR_BGR2RGB\u001b[0m\u001b[0;34m)\u001b[0m\u001b[0;34m\u001b[0m\u001b[0;34m\u001b[0m\u001b[0m\n\u001b[0m\u001b[1;32m      3\u001b[0m \u001b[0;34m\u001b[0m\u001b[0m\n\u001b[1;32m      4\u001b[0m \u001b[0mplt\u001b[0m\u001b[0;34m.\u001b[0m\u001b[0msubplot\u001b[0m\u001b[0;34m(\u001b[0m\u001b[0;36m1\u001b[0m\u001b[0;34m,\u001b[0m\u001b[0;36m3\u001b[0m\u001b[0;34m,\u001b[0m \u001b[0;36m1\u001b[0m\u001b[0;34m)\u001b[0m\u001b[0;34m\u001b[0m\u001b[0;34m\u001b[0m\u001b[0m\n\u001b[1;32m      5\u001b[0m \u001b[0mplt\u001b[0m\u001b[0;34m.\u001b[0m\u001b[0mimshow\u001b[0m\u001b[0;34m(\u001b[0m\u001b[0mimage\u001b[0m\u001b[0;34m)\u001b[0m\u001b[0;34m\u001b[0m\u001b[0;34m\u001b[0m\u001b[0m\n",
            "\u001b[0;31merror\u001b[0m: OpenCV(4.8.0) /io/opencv/modules/imgproc/src/color.cpp:182: error: (-215:Assertion failed) !_src.empty() in function 'cvtColor'\n"
          ]
        }
      ]
    },
    {
      "cell_type": "markdown",
      "source": [
        "###Exp 2 and 3"
      ],
      "metadata": {
        "id": "74bIcRsagufN"
      }
    },
    {
      "cell_type": "code",
      "source": [
        "#EXP 2\n",
        "\n",
        "t=200\n",
        "r=np.zeros_like(image_6,dtype=np.uint8)\n",
        "for i in range(image_6.shape[0]):\n",
        "  for j in range (image_6.shape[1]):\n",
        "\n",
        "    pix=image_6[i,j]\n",
        "    if(pix>=t):\n",
        "      r[i,j]=255\n",
        "    else:\n",
        "      r[i,j]=0\n",
        "\n",
        "plt.subplot(1,2, 1)\n",
        "plt.imshow(image_6)\n",
        "plt.title('OG')\n",
        "plt.axis('off')\n",
        "\n",
        "plt.subplot(1,2, 2)\n",
        "plt.imshow(r)\n",
        "plt.title('thresholding')\n",
        "plt.axis('off')\n"
      ],
      "metadata": {
        "colab": {
          "base_uri": "https://localhost:8080/",
          "height": 302
        },
        "id": "YzOkHwx2hEUg",
        "outputId": "5aaccf80-29dd-4bbe-b7a9-e0431b7a83f5"
      },
      "execution_count": null,
      "outputs": [
        {
          "output_type": "execute_result",
          "data": {
            "text/plain": [
              "(-0.5, 27.5, 27.5, -0.5)"
            ]
          },
          "metadata": {},
          "execution_count": 4
        },
        {
          "output_type": "display_data",
          "data": {
            "text/plain": [
              "<Figure size 640x480 with 2 Axes>"
            ],
            "image/png": "[encoded data removed]"
          },
          "metadata": {}
        }
      ]
    },
    {
      "cell_type": "markdown",
      "source": [
        "### Exp 4"
      ],
      "metadata": {
        "id": "LKQGbr4sgo_K"
      }
    },
    {
      "cell_type": "code",
      "source": [
        "#EXP 4\n",
        "\n",
        "#salt pepper noise\n",
        "\n",
        "imgcopy=image_6.copy()\n",
        "salt_prob = 0.01  # Probability of adding salt noise\n",
        "pepper_prob = 0.01  # Probability of adding pepper noise\n",
        "row, col = imgcopy.shape\n",
        "salt = np.ceil(salt_prob * row * col)\n",
        "pepper = np.ceil(pepper_prob * row * col)\n",
        "\n",
        "row_indices = np.random.randint(0, row, int(salt))\n",
        "col_indices = np.random.randint(0, col, int(salt))\n",
        "imgcopy[row_indices, col_indices]=0\n",
        "\n",
        "row_indices1 = np.random.randint(0, row, int(pepper_prob))\n",
        "col_indices1 = np.random.randint(0, col, int(pepper_prob))\n",
        "imgcopy[row_indices1, col_indices1]=255\n",
        "\n",
        "#apply fitler\n",
        "img2 = np.zeros_like(imgcopy)\n",
        "for i in range(len(imgcopy)-2):\n",
        "  for j in range(len(imgcopy[0])-2):\n",
        "    y = []\n",
        "    for p in range(3):\n",
        "      for q in range(3):\n",
        "        y += [imgcopy[i+p][j+q]]\n",
        "    img2[i][j] = sorted(y)[4]\n",
        "\n",
        "\n",
        "plt.figure(figsize=(5, 10))\n",
        "\n",
        "plt.subplot(1, 2, 1)\n",
        "plt.imshow(imgcopy)\n",
        "plt.title('Image with Salt and Pepper Noise')\n",
        "plt.show()\n",
        "\n",
        "plt.subplot(1, 2, 2)\n",
        "plt.imshow(img2)\n",
        "plt.title('Image after filter')\n",
        "plt.show()\n",
        "\n"
      ],
      "metadata": {
        "colab": {
          "base_uri": "https://localhost:8080/",
          "height": 550
        },
        "id": "mSoSnX6WF-po",
        "outputId": "77dd3137-35ef-42c7-d65a-38fbcfe9bbd1"
      },
      "execution_count": null,
      "outputs": [
        {
          "output_type": "display_data",
          "data": {
            "text/plain": [
              "<Figure size 500x1000 with 1 Axes>"
            ],
            "image/png": "[encoded data removed]"
          },
          "metadata": {}
        },
        {
          "output_type": "display_data",
          "data": {
            "text/plain": [
              "<Figure size 640x480 with 1 Axes>"
            ],
            "image/png": "[encoded data removed]"
          },
          "metadata": {}
        }
      ]
    },
    {
      "cell_type": "code",
      "source": [
        "noise = np.random.normal(scale = 50 , size = image_6.shape)\n",
        "\n",
        "noisy_image = image_6 + noise\n",
        "\n",
        "\n",
        "filteredimg = np.zeros_like(image_6)\n",
        "for i in range(len(image_6)-2):\n",
        "  for j in range(len(image_6[0])-2):\n",
        "    x = 0\n",
        "    for p in range(3):\n",
        "      for q in range(3):\n",
        "        x+= image_6[i+p][j+q]\n",
        "    x = x//9\n",
        "    filteredimg[i][j] = x\n",
        "cv2_imshow(filteredimg)\n",
        "\n",
        "\n",
        "\n",
        "plt.subplot(1, 2, 1)\n",
        "plt.imshow(noisy_image)\n",
        "plt.title('Image with Gaussian Noise')\n",
        "plt.show()\n",
        "\n",
        "plt.subplot(1, 2, 2)\n",
        "plt.imshow(filteredimg)\n",
        "plt.title('Image after filter')\n",
        "plt.show()"
      ],
      "metadata": {
        "colab": {
          "base_uri": "https://localhost:8080/",
          "height": 627
        },
        "id": "B08jsMCTfD1u",
        "outputId": "f42e3f76-b0d1-4776-bce9-2c6a350d7f5e"
      },
      "execution_count": null,
      "outputs": [
        {
          "output_type": "display_data",
          "data": {
            "text/plain": [
              "<PIL.Image.Image image mode=L size=28x28>"
            ],
            "image/png": "[encoded data removed]"
          },
          "metadata": {}
        },
        {
          "output_type": "display_data",
          "data": {
            "text/plain": [
              "<Figure size 640x480 with 1 Axes>"
            ],
            "image/png": "[encoded data removed]"
          },
          "metadata": {}
        },
        {
          "output_type": "display_data",
          "data": {
            "text/plain": [
              "<Figure size 640x480 with 1 Axes>"
            ],
            "image/png": "[encoded data removed]"
          },
          "metadata": {}
        }
      ]
    },
    {
      "cell_type": "markdown",
      "source": [
        "###Exp 5"
      ],
      "metadata": {
        "id": "s-rq6R5_g8tl"
      }
    },
    {
      "cell_type": "code",
      "source": [
        "result = np.zeros_like(image_6)\n",
        "n=8\n",
        "matrix= [[-1,-1,-1],[-1,n,-1],[-1,-1,-1]]\n",
        "print(matrix)\n",
        "\n",
        "for i in range(len(image_6)-2):\n",
        "  for j in range(len(image_6)-2):\n",
        "    x=0\n",
        "    for p in range(3):\n",
        "      for q in range(3):\n",
        "        x+= image_6[i+p][j+q] * matrix[p][q]\n",
        "    x = x//9\n",
        "    result[i][j] = x\n",
        "\n",
        "plt.figure(figsize=(5, 10))\n",
        "\n",
        "plt.subplot(1, 2, 1)\n",
        "plt.imshow(image_6)\n",
        "plt.title('Og')\n",
        "plt.show()\n",
        "\n",
        "plt.subplot(1, 2, 2)\n",
        "plt.imshow(img2)\n",
        "plt.title('High pass')\n",
        "plt.show()"
      ],
      "metadata": {
        "colab": {
          "base_uri": "https://localhost:8080/",
          "height": 568
        },
        "id": "30yf3_w3hTq3",
        "outputId": "b766fb48-2c54-442d-dc71-64bd432b80a1"
      },
      "execution_count": null,
      "outputs": [
        {
          "output_type": "stream",
          "name": "stdout",
          "text": [
            "[[-1, -1, -1], [-1, 8, -1], [-1, -1, -1]]\n"
          ]
        },
        {
          "output_type": "display_data",
          "data": {
            "text/plain": [
              "<Figure size 500x1000 with 1 Axes>"
            ],
            "image/png": "[encoded data removed]"
          },
          "metadata": {}
        },
        {
          "output_type": "display_data",
          "data": {
            "text/plain": [
              "<Figure size 640x480 with 1 Axes>"
            ],
            "image/png": "[encoded data removed]"
          },
          "metadata": {}
        }
      ]
    },
    {
      "cell_type": "markdown",
      "source": [
        "###Exp 7"
      ],
      "metadata": {
        "id": "EAofj8rvji-K"
      }
    },
    {
      "cell_type": "code",
      "source": [
        "image=image_6\n",
        "ft_img = np.fft.fft2(image)\n",
        "ft_img = np.fft.fftshift(ft_img)\n",
        "plt.imshow(np.abs(ft_img))\n"
      ],
      "metadata": {
        "colab": {
          "base_uri": "https://localhost:8080/",
          "height": 448
        },
        "id": "PfRCTzc0jlus",
        "outputId": "6cfcbd13-7d7c-4b35-9191-0a837f51093c"
      },
      "execution_count": null,
      "outputs": [
        {
          "output_type": "execute_result",
          "data": {
            "text/plain": [
              "<matplotlib.image.AxesImage at 0x7e2247ac3fa0>"
            ]
          },
          "metadata": {},
          "execution_count": 6
        },
        {
          "output_type": "display_data",
          "data": {
            "text/plain": [
              "<Figure size 640x480 with 1 Axes>"
            ],
            "image/png": "[encoded data removed]"
          },
          "metadata": {}
        }
      ]
    },
    {
      "cell_type": "code",
      "source": [
        "\n",
        "import math\n",
        "def gaussian_high(d,d0):\n",
        "  return (1 - math.exp(-d*d/(2*d0*d0)))\n",
        "def gaussian_low(d,d0):\n",
        "  return math.exp(-float(d*d)/float(2*d0*d0))\n",
        "def Dis(x,y,u,v):\n",
        "  x = np.sqrt(np.square(u-x)+np.square(v-y))\n",
        "  return x\n",
        "U = len(image)//2\n",
        "V = len(image[0])//2\n",
        "D0 = 6.0\n",
        "mask = np.zeros_like(image)\n",
        "for i in range(len(image)):\n",
        "  for j in range(len(image[0])):\n",
        "    if Dis(i,j,U,V)<= D0:\n",
        "      mask[i][j] = 1\n",
        "print(mask)\n",
        "masked_img = ft_img*mask\n",
        "\n",
        "ift_img = np.fft.ifftshift(masked_img)\n",
        "ift_img = np.fft.ifft2(ift_img)\n"
      ],
      "metadata": {
        "colab": {
          "base_uri": "https://localhost:8080/"
        },
        "id": "tWUaGMQbOVP5",
        "outputId": "220c40d9-88fc-48d1-83d0-29a1ffa1a53c"
      },
      "execution_count": null,
      "outputs": [
        {
          "output_type": "stream",
          "name": "stdout",
          "text": [
            "[[0 0 0 0 0 0 0 0 0 0 0 0 0 0 0 0 0 0 0 0 0 0 0 0 0 0 0 0]\n",
            " [0 0 0 0 0 0 0 0 0 0 0 0 0 0 0 0 0 0 0 0 0 0 0 0 0 0 0 0]\n",
            " [0 0 0 0 0 0 0 0 0 0 0 0 0 0 0 0 0 0 0 0 0 0 0 0 0 0 0 0]\n",
            " [0 0 0 0 0 0 0 0 0 0 0 0 0 0 0 0 0 0 0 0 0 0 0 0 0 0 0 0]\n",
            " [0 0 0 0 0 0 0 0 0 0 0 0 0 0 0 0 0 0 0 0 0 0 0 0 0 0 0 0]\n",
            " [0 0 0 0 0 0 0 0 0 0 0 0 0 0 0 0 0 0 0 0 0 0 0 0 0 0 0 0]\n",
            " [0 0 0 0 0 0 0 0 0 0 0 0 0 0 0 0 0 0 0 0 0 0 0 0 0 0 0 0]\n",
            " [0 0 0 0 0 0 0 0 0 0 0 0 0 0 0 0 0 0 0 0 0 0 0 0 0 0 0 0]\n",
            " [0 0 0 0 0 0 0 0 0 0 0 0 0 0 1 0 0 0 0 0 0 0 0 0 0 0 0 0]\n",
            " [0 0 0 0 0 0 0 0 0 0 0 1 1 1 1 1 1 1 0 0 0 0 0 0 0 0 0 0]\n",
            " [0 0 0 0 0 0 0 0 0 0 1 1 1 1 1 1 1 1 1 0 0 0 0 0 0 0 0 0]\n",
            " [0 0 0 0 0 0 0 0 0 1 1 1 1 1 1 1 1 1 1 1 0 0 0 0 0 0 0 0]\n",
            " [0 0 0 0 0 0 0 0 0 1 1 1 1 1 1 1 1 1 1 1 0 0 0 0 0 0 0 0]\n",
            " [0 0 0 0 0 0 0 0 0 1 1 1 1 1 1 1 1 1 1 1 0 0 0 0 0 0 0 0]\n",
            " [0 0 0 0 0 0 0 0 1 1 1 1 1 1 1 1 1 1 1 1 1 0 0 0 0 0 0 0]\n",
            " [0 0 0 0 0 0 0 0 0 1 1 1 1 1 1 1 1 1 1 1 0 0 0 0 0 0 0 0]\n",
            " [0 0 0 0 0 0 0 0 0 1 1 1 1 1 1 1 1 1 1 1 0 0 0 0 0 0 0 0]\n",
            " [0 0 0 0 0 0 0 0 0 1 1 1 1 1 1 1 1 1 1 1 0 0 0 0 0 0 0 0]\n",
            " [0 0 0 0 0 0 0 0 0 0 1 1 1 1 1 1 1 1 1 0 0 0 0 0 0 0 0 0]\n",
            " [0 0 0 0 0 0 0 0 0 0 0 1 1 1 1 1 1 1 0 0 0 0 0 0 0 0 0 0]\n",
            " [0 0 0 0 0 0 0 0 0 0 0 0 0 0 1 0 0 0 0 0 0 0 0 0 0 0 0 0]\n",
            " [0 0 0 0 0 0 0 0 0 0 0 0 0 0 0 0 0 0 0 0 0 0 0 0 0 0 0 0]\n",
            " [0 0 0 0 0 0 0 0 0 0 0 0 0 0 0 0 0 0 0 0 0 0 0 0 0 0 0 0]\n",
            " [0 0 0 0 0 0 0 0 0 0 0 0 0 0 0 0 0 0 0 0 0 0 0 0 0 0 0 0]\n",
            " [0 0 0 0 0 0 0 0 0 0 0 0 0 0 0 0 0 0 0 0 0 0 0 0 0 0 0 0]\n",
            " [0 0 0 0 0 0 0 0 0 0 0 0 0 0 0 0 0 0 0 0 0 0 0 0 0 0 0 0]\n",
            " [0 0 0 0 0 0 0 0 0 0 0 0 0 0 0 0 0 0 0 0 0 0 0 0 0 0 0 0]\n",
            " [0 0 0 0 0 0 0 0 0 0 0 0 0 0 0 0 0 0 0 0 0 0 0 0 0 0 0 0]]\n"
          ]
        }
      ]
    },
    {
      "cell_type": "code",
      "source": [
        "\n",
        "mask = np.zeros_like(image, dtype = 'float32')\n",
        "for i in range(len(image)):\n",
        "  for j in range(len(image[0])):\n",
        "    d = Dis(i,j,U,V)\n",
        "    mask[i][j] = gaussian_high(d,D0)\n",
        "mask"
      ],
      "metadata": {
        "colab": {
          "base_uri": "https://localhost:8080/"
        },
        "id": "nBIlBV_ZOVlD",
        "outputId": "20c43f36-fedb-453c-ee36-35706c368af1"
      },
      "execution_count": null,
      "outputs": [
        {
          "output_type": "execute_result",
          "data": {
            "text/plain": [
              "array([[0.99567974, 0.9937141 , 0.9911046 , 0.9877567 , 0.98361045,\n",
              "        0.97866106, 0.9729782 , 0.9667193 , 0.9601336 , 0.953553  ,\n",
              "        0.9473687 , 0.9419948 , 0.9378235 , 0.93517804, 0.93427145,\n",
              "        0.93517804, 0.9378235 , 0.9419948 , 0.9473687 , 0.953553  ,\n",
              "        0.9601336 , 0.9667193 , 0.9729782 , 0.97866106, 0.98361045,\n",
              "        0.9877567 , 0.9911046 , 0.9937141 ],\n",
              "       [0.9937141 , 0.990854  , 0.98705727, 0.98218614, 0.9761533 ,\n",
              "        0.96895206, 0.9606835 , 0.9515769 , 0.9419948 , 0.9324201 ,\n",
              "        0.9234219 , 0.9156029 , 0.9095337 , 0.90568465, 0.90436554,\n",
              "        0.90568465, 0.9095337 , 0.9156029 , 0.9234219 , 0.9324201 ,\n",
              "        0.9419948 , 0.9515769 , 0.9606835 , 0.96895206, 0.9761533 ,\n",
              "        0.98218614, 0.98705727, 0.990854  ],\n",
              "       [0.9911046 , 0.98705727, 0.9816844 , 0.97479105, 0.9662539 ,\n",
              "        0.9560631 , 0.944362  , 0.9314749 , 0.917915  , 0.90436554,\n",
              "        0.89163196, 0.880567  , 0.8719783 , 0.8665314 , 0.86466473,\n",
              "        0.8665314 , 0.8719783 , 0.880567  , 0.89163196, 0.90436554,\n",
              "        0.917915  , 0.9314749 , 0.944362  , 0.9560631 , 0.9662539 ,\n",
              "        0.97479105, 0.9816844 , 0.98705727],\n",
              "       [0.9877567 , 0.98218614, 0.97479105, 0.9653033 , 0.953553  ,\n",
              "        0.93952686, 0.9234219 , 0.90568465, 0.88702124, 0.8683723 ,\n",
              "        0.8508463 , 0.8356169 , 0.8237957 , 0.8162987 , 0.8137295 ,\n",
              "        0.8162987 , 0.8237957 , 0.8356169 , 0.8508463 , 0.8683723 ,\n",
              "        0.88702124, 0.90568465, 0.9234219 , 0.93952686, 0.953553  ,\n",
              "        0.9653033 , 0.97479105, 0.98218614],\n",
              "       [0.98361045, 0.9761533 , 0.9662539 , 0.953553  , 0.9378235 ,\n",
              "        0.9190472 , 0.89748824, 0.8737441 , 0.84876025, 0.8237957 ,\n",
              "        0.80033433, 0.77994746, 0.7641229 , 0.7540871 , 0.7506478 ,\n",
              "        0.7540871 , 0.7641229 , 0.77994746, 0.80033433, 0.8237957 ,\n",
              "        0.84876025, 0.8737441 , 0.89748824, 0.9190472 , 0.9378235 ,\n",
              "        0.953553  , 0.9662539 , 0.9761533 ],\n",
              "       [0.97866106, 0.96895206, 0.9560631 , 0.93952686, 0.9190472 ,\n",
              "        0.89460075, 0.8665314 , 0.8356169 , 0.8030883 , 0.7705849 ,\n",
              "        0.74003863, 0.7134952 , 0.6928919 , 0.6798254 , 0.6753475 ,\n",
              "        0.6798254 , 0.6928919 , 0.7134952 , 0.74003863, 0.7705849 ,\n",
              "        0.8030883 , 0.8356169 , 0.8665314 , 0.89460075, 0.9190472 ,\n",
              "        0.93952686, 0.9560631 , 0.96895206],\n",
              "       [0.9729782 , 0.9606835 , 0.944362  , 0.9234219 , 0.89748824,\n",
              "        0.8665314 , 0.8309867 , 0.7918392 , 0.7506478 , 0.7094882 ,\n",
              "        0.670807  , 0.6371947 , 0.6111044 , 0.5945581 , 0.5888877 ,\n",
              "        0.5945581 , 0.6111044 , 0.6371947 , 0.670807  , 0.7094882 ,\n",
              "        0.7506478 , 0.7918392 , 0.8309867 , 0.8665314 , 0.89748824,\n",
              "        0.9234219 , 0.944362  , 0.9606835 ],\n",
              "       [0.9667193 , 0.9515769 , 0.9314749 , 0.90568465, 0.8737441 ,\n",
              "        0.8356169 , 0.7918392 , 0.74362427, 0.6928919 , 0.6421988 ,\n",
              "        0.5945581 , 0.55316037, 0.521027  , 0.5006482 , 0.49366438,\n",
              "        0.5006482 , 0.521027  , 0.55316037, 0.5945581 , 0.6421988 ,\n",
              "        0.6928919 , 0.74362427, 0.7918392 , 0.8356169 , 0.8737441 ,\n",
              "        0.90568465, 0.9314749 , 0.9515769 ],\n",
              "       [0.9601336 , 0.9419948 , 0.917915  , 0.88702124, 0.84876025,\n",
              "        0.8030883 , 0.7506478 , 0.6928919 , 0.63212055, 0.5713962 ,\n",
              "        0.51432824, 0.46473858, 0.42624658, 0.40183514, 0.39346933,\n",
              "        0.40183514, 0.42624658, 0.46473858, 0.51432824, 0.5713962 ,\n",
              "        0.63212055, 0.6928919 , 0.7506478 , 0.8030883 , 0.84876025,\n",
              "        0.88702124, 0.917915  , 0.9419948 ],\n",
              "       [0.953553  , 0.9324201 , 0.90436554, 0.8683723 , 0.8237957 ,\n",
              "        0.7705849 , 0.7094882 , 0.6421988 , 0.5713962 , 0.5006482 ,\n",
              "        0.4341603 , 0.3763851 , 0.33153936, 0.30309844, 0.2933517 ,\n",
              "        0.30309844, 0.33153936, 0.3763851 , 0.4341603 , 0.5006482 ,\n",
              "        0.5713962 , 0.6421988 , 0.7094882 , 0.7705849 , 0.8237957 ,\n",
              "        0.8683723 , 0.90436554, 0.9324201 ],\n",
              "       [0.9473687 , 0.9234219 , 0.89163196, 0.8508463 , 0.80033433,\n",
              "        0.74003863, 0.670807  , 0.5945581 , 0.51432824, 0.4341603 ,\n",
              "        0.3588196 , 0.2933517 , 0.24253488, 0.21030708, 0.1992626 ,\n",
              "        0.21030708, 0.24253488, 0.2933517 , 0.3588196 , 0.4341603 ,\n",
              "        0.51432824, 0.5945581 , 0.670807  , 0.74003863, 0.80033433,\n",
              "        0.8508463 , 0.89163196, 0.9234219 ],\n",
              "       [0.9419948 , 0.9156029 , 0.880567  , 0.8356169 , 0.77994746,\n",
              "        0.7134952 , 0.6371947 , 0.55316037, 0.46473858, 0.3763851 ,\n",
              "        0.2933517 , 0.22119921, 0.16519369, 0.12967527, 0.1175031 ,\n",
              "        0.12967527, 0.16519369, 0.22119921, 0.2933517 , 0.3763851 ,\n",
              "        0.46473858, 0.55316037, 0.6371947 , 0.7134952 , 0.77994746,\n",
              "        0.8356169 , 0.880567  , 0.9156029 ],\n",
              "       [0.9378235 , 0.9095337 , 0.8719783 , 0.8237957 , 0.7641229 ,\n",
              "        0.6928919 , 0.6111044 , 0.521027  , 0.42624658, 0.33153936,\n",
              "        0.24253488, 0.16519369, 0.10516068, 0.06708804, 0.05404053,\n",
              "        0.06708804, 0.10516068, 0.16519369, 0.24253488, 0.33153936,\n",
              "        0.42624658, 0.521027  , 0.6111044 , 0.6928919 , 0.7641229 ,\n",
              "        0.8237957 , 0.8719783 , 0.9095337 ],\n",
              "       [0.93517804, 0.90568465, 0.8665314 , 0.8162987 , 0.7540871 ,\n",
              "        0.6798254 , 0.5945581 , 0.5006482 , 0.40183514, 0.30309844,\n",
              "        0.21030708, 0.12967527, 0.06708804, 0.02739552, 0.01379288,\n",
              "        0.02739552, 0.06708804, 0.12967527, 0.21030708, 0.30309844,\n",
              "        0.40183514, 0.5006482 , 0.5945581 , 0.6798254 , 0.7540871 ,\n",
              "        0.8162987 , 0.8665314 , 0.90568465],\n",
              "       [0.93427145, 0.90436554, 0.86466473, 0.8137295 , 0.7506478 ,\n",
              "        0.6753475 , 0.5888877 , 0.49366438, 0.39346933, 0.2933517 ,\n",
              "        0.1992626 , 0.1175031 , 0.05404053, 0.01379288, 0.        ,\n",
              "        0.01379288, 0.05404053, 0.1175031 , 0.1992626 , 0.2933517 ,\n",
              "        0.39346933, 0.49366438, 0.5888877 , 0.6753475 , 0.7506478 ,\n",
              "        0.8137295 , 0.86466473, 0.90436554],\n",
              "       [0.93517804, 0.90568465, 0.8665314 , 0.8162987 , 0.7540871 ,\n",
              "        0.6798254 , 0.5945581 , 0.5006482 , 0.40183514, 0.30309844,\n",
              "        0.21030708, 0.12967527, 0.06708804, 0.02739552, 0.01379288,\n",
              "        0.02739552, 0.06708804, 0.12967527, 0.21030708, 0.30309844,\n",
              "        0.40183514, 0.5006482 , 0.5945581 , 0.6798254 , 0.7540871 ,\n",
              "        0.8162987 , 0.8665314 , 0.90568465],\n",
              "       [0.9378235 , 0.9095337 , 0.8719783 , 0.8237957 , 0.7641229 ,\n",
              "        0.6928919 , 0.6111044 , 0.521027  , 0.42624658, 0.33153936,\n",
              "        0.24253488, 0.16519369, 0.10516068, 0.06708804, 0.05404053,\n",
              "        0.06708804, 0.10516068, 0.16519369, 0.24253488, 0.33153936,\n",
              "        0.42624658, 0.521027  , 0.6111044 , 0.6928919 , 0.7641229 ,\n",
              "        0.8237957 , 0.8719783 , 0.9095337 ],\n",
              "       [0.9419948 , 0.9156029 , 0.880567  , 0.8356169 , 0.77994746,\n",
              "        0.7134952 , 0.6371947 , 0.55316037, 0.46473858, 0.3763851 ,\n",
              "        0.2933517 , 0.22119921, 0.16519369, 0.12967527, 0.1175031 ,\n",
              "        0.12967527, 0.16519369, 0.22119921, 0.2933517 , 0.3763851 ,\n",
              "        0.46473858, 0.55316037, 0.6371947 , 0.7134952 , 0.77994746,\n",
              "        0.8356169 , 0.880567  , 0.9156029 ],\n",
              "       [0.9473687 , 0.9234219 , 0.89163196, 0.8508463 , 0.80033433,\n",
              "        0.74003863, 0.670807  , 0.5945581 , 0.51432824, 0.4341603 ,\n",
              "        0.3588196 , 0.2933517 , 0.24253488, 0.21030708, 0.1992626 ,\n",
              "        0.21030708, 0.24253488, 0.2933517 , 0.3588196 , 0.4341603 ,\n",
              "        0.51432824, 0.5945581 , 0.670807  , 0.74003863, 0.80033433,\n",
              "        0.8508463 , 0.89163196, 0.9234219 ],\n",
              "       [0.953553  , 0.9324201 , 0.90436554, 0.8683723 , 0.8237957 ,\n",
              "        0.7705849 , 0.7094882 , 0.6421988 , 0.5713962 , 0.5006482 ,\n",
              "        0.4341603 , 0.3763851 , 0.33153936, 0.30309844, 0.2933517 ,\n",
              "        0.30309844, 0.33153936, 0.3763851 , 0.4341603 , 0.5006482 ,\n",
              "        0.5713962 , 0.6421988 , 0.7094882 , 0.7705849 , 0.8237957 ,\n",
              "        0.8683723 , 0.90436554, 0.9324201 ],\n",
              "       [0.9601336 , 0.9419948 , 0.917915  , 0.88702124, 0.84876025,\n",
              "        0.8030883 , 0.7506478 , 0.6928919 , 0.63212055, 0.5713962 ,\n",
              "        0.51432824, 0.46473858, 0.42624658, 0.40183514, 0.39346933,\n",
              "        0.40183514, 0.42624658, 0.46473858, 0.51432824, 0.5713962 ,\n",
              "        0.63212055, 0.6928919 , 0.7506478 , 0.8030883 , 0.84876025,\n",
              "        0.88702124, 0.917915  , 0.9419948 ],\n",
              "       [0.9667193 , 0.9515769 , 0.9314749 , 0.90568465, 0.8737441 ,\n",
              "        0.8356169 , 0.7918392 , 0.74362427, 0.6928919 , 0.6421988 ,\n",
              "        0.5945581 , 0.55316037, 0.521027  , 0.5006482 , 0.49366438,\n",
              "        0.5006482 , 0.521027  , 0.55316037, 0.5945581 , 0.6421988 ,\n",
              "        0.6928919 , 0.74362427, 0.7918392 , 0.8356169 , 0.8737441 ,\n",
              "        0.90568465, 0.9314749 , 0.9515769 ],\n",
              "       [0.9729782 , 0.9606835 , 0.944362  , 0.9234219 , 0.89748824,\n",
              "        0.8665314 , 0.8309867 , 0.7918392 , 0.7506478 , 0.7094882 ,\n",
              "        0.670807  , 0.6371947 , 0.6111044 , 0.5945581 , 0.5888877 ,\n",
              "        0.5945581 , 0.6111044 , 0.6371947 , 0.670807  , 0.7094882 ,\n",
              "        0.7506478 , 0.7918392 , 0.8309867 , 0.8665314 , 0.89748824,\n",
              "        0.9234219 , 0.944362  , 0.9606835 ],\n",
              "       [0.97866106, 0.96895206, 0.9560631 , 0.93952686, 0.9190472 ,\n",
              "        0.89460075, 0.8665314 , 0.8356169 , 0.8030883 , 0.7705849 ,\n",
              "        0.74003863, 0.7134952 , 0.6928919 , 0.6798254 , 0.6753475 ,\n",
              "        0.6798254 , 0.6928919 , 0.7134952 , 0.74003863, 0.7705849 ,\n",
              "        0.8030883 , 0.8356169 , 0.8665314 , 0.89460075, 0.9190472 ,\n",
              "        0.93952686, 0.9560631 , 0.96895206],\n",
              "       [0.98361045, 0.9761533 , 0.9662539 , 0.953553  , 0.9378235 ,\n",
              "        0.9190472 , 0.89748824, 0.8737441 , 0.84876025, 0.8237957 ,\n",
              "        0.80033433, 0.77994746, 0.7641229 , 0.7540871 , 0.7506478 ,\n",
              "        0.7540871 , 0.7641229 , 0.77994746, 0.80033433, 0.8237957 ,\n",
              "        0.84876025, 0.8737441 , 0.89748824, 0.9190472 , 0.9378235 ,\n",
              "        0.953553  , 0.9662539 , 0.9761533 ],\n",
              "       [0.9877567 , 0.98218614, 0.97479105, 0.9653033 , 0.953553  ,\n",
              "        0.93952686, 0.9234219 , 0.90568465, 0.88702124, 0.8683723 ,\n",
              "        0.8508463 , 0.8356169 , 0.8237957 , 0.8162987 , 0.8137295 ,\n",
              "        0.8162987 , 0.8237957 , 0.8356169 , 0.8508463 , 0.8683723 ,\n",
              "        0.88702124, 0.90568465, 0.9234219 , 0.93952686, 0.953553  ,\n",
              "        0.9653033 , 0.97479105, 0.98218614],\n",
              "       [0.9911046 , 0.98705727, 0.9816844 , 0.97479105, 0.9662539 ,\n",
              "        0.9560631 , 0.944362  , 0.9314749 , 0.917915  , 0.90436554,\n",
              "        0.89163196, 0.880567  , 0.8719783 , 0.8665314 , 0.86466473,\n",
              "        0.8665314 , 0.8719783 , 0.880567  , 0.89163196, 0.90436554,\n",
              "        0.917915  , 0.9314749 , 0.944362  , 0.9560631 , 0.9662539 ,\n",
              "        0.97479105, 0.9816844 , 0.98705727],\n",
              "       [0.9937141 , 0.990854  , 0.98705727, 0.98218614, 0.9761533 ,\n",
              "        0.96895206, 0.9606835 , 0.9515769 , 0.9419948 , 0.9324201 ,\n",
              "        0.9234219 , 0.9156029 , 0.9095337 , 0.90568465, 0.90436554,\n",
              "        0.90568465, 0.9095337 , 0.9156029 , 0.9234219 , 0.9324201 ,\n",
              "        0.9419948 , 0.9515769 , 0.9606835 , 0.96895206, 0.9761533 ,\n",
              "        0.98218614, 0.98705727, 0.990854  ]], dtype=float32)"
            ]
          },
          "metadata": {},
          "execution_count": 8
        }
      ]
    },
    {
      "cell_type": "markdown",
      "source": [
        "###Exp 8"
      ],
      "metadata": {
        "id": "L0rhLGcdcNOR"
      }
    },
    {
      "cell_type": "code",
      "source": [
        "se=[[1,1],[1,0]]\n",
        "seed=255\n",
        "\n",
        "#first convert greyscale to a binary image\n",
        "bi_img=np.zeros_like(image_6,dtype=np.uint8)\n",
        "t=150\n",
        "for i in range(image_6.shape[0]):\n",
        "  for j in range (image_6.shape[1]):\n",
        "    pix=image_6[i,j]\n",
        "    if(pix>=t):\n",
        "      bi_img[i,j]=255\n",
        "    else:\n",
        "      bi_img[i,j]=0\n",
        "\n",
        "#dilation\n",
        "row,col=bi_img.shape\n",
        "dil=np.zeros_like(bi_img)\n",
        "for i in range(row-1):\n",
        "  for j in range(col-1):\n",
        "    if(bi_img[i][j]==seed):\n",
        "      dil[i][j]=255\n",
        "      dil[i+1][j]=255\n",
        "      dil[i][j+1]=255\n",
        "\n",
        "#erosion\n",
        "row,col=bi_img.shape\n",
        "ero=np.zeros_like(bi_img)\n",
        "for i in range(row-1):\n",
        "  for j in range(col-1):\n",
        "    if(bi_img[i][j]==bi_img[i+1][j]==bi_img[i][j+1]==seed):\n",
        "      ero[i][j]=255\n",
        "\n",
        "# plt.figure(figsize=(10,10))\n",
        "\n",
        "plt.subplot(3, 1, 1)\n",
        "plt.imshow(bi_img)\n",
        "plt.title('Og')\n",
        "plt.show()\n",
        "\n",
        "plt.subplot(3, 1, 2)\n",
        "plt.imshow(dil)\n",
        "plt.title('Dilation')\n",
        "plt.show()\n",
        "\n",
        "plt.subplot(3, 1, 3)\n",
        "plt.imshow(ero)\n",
        "plt.title('Erosion')\n",
        "plt.show()\n",
        "\n"
      ],
      "metadata": {
        "colab": {
          "base_uri": "https://localhost:8080/",
          "height": 539
        },
        "id": "hQLztFqbcMZo",
        "outputId": "0179eb1c-d117-43ed-b856-6427e583fb9d"
      },
      "execution_count": null,
      "outputs": [
        {
          "output_type": "display_data",
          "data": {
            "text/plain": [
              "<Figure size 640x480 with 1 Axes>"
            ],
            "image/png": "[encoded data removed]"
          },
          "metadata": {}
        },
        {
          "output_type": "display_data",
          "data": {
            "text/plain": [
              "<Figure size 640x480 with 1 Axes>"
            ],
            "image/png": "[encoded data removed]"
          },
          "metadata": {}
        },
        {
          "output_type": "display_data",
          "data": {
            "text/plain": [
              "<Figure size 640x480 with 1 Axes>"
            ],
            "image/png": "[encoded data removed]"
          },
          "metadata": {}
        }
      ]
    },
    {
      "cell_type": "code",
      "source": [
        "#hit\n",
        "hit=np.zeros_like(bi_img)\n",
        "for i in range(row-1):\n",
        "  for j in range(col-1):\n",
        "    if(bi_img[i][j]==bi_img[i+1][j]==bi_img[i][j+1]==seed and bi_img[i+1][j+1]==0):\n",
        "      hit[i][j]=255\n",
        "\n",
        "#miss\n",
        "miss=np.ones_like(bi_img)\n",
        "for i in range(row-1):\n",
        "  for j in range(col-1):\n",
        "    if(bi_img[i][j]==bi_img[i+1][j]==bi_img[i][j+1]==seed and bi_img[i+1][j+1]==0):\n",
        "      miss[i][j]=0\n",
        "\n",
        "plt.subplot(3, 1, 1)\n",
        "plt.imshow(bi_img)\n",
        "plt.title('Og')\n",
        "plt.show()\n",
        "\n",
        "plt.subplot(3, 1, 2)\n",
        "plt.imshow(hit)\n",
        "plt.title('Hit')\n",
        "plt.show()\n",
        "\n",
        "plt.subplot(3, 1, 3)\n",
        "plt.imshow(miss)\n",
        "plt.title('Miss')\n",
        "plt.show()"
      ],
      "metadata": {
        "colab": {
          "base_uri": "https://localhost:8080/",
          "height": 539
        },
        "id": "s-Wkz2jLibUb",
        "outputId": "14a93c3e-d717-41e2-899f-029a33e90606"
      },
      "execution_count": null,
      "outputs": [
        {
          "output_type": "display_data",
          "data": {
            "text/plain": [
              "<Figure size 640x480 with 1 Axes>"
            ],
            "image/png": "[encoded data removed]"
          },
          "metadata": {}
        },
        {
          "output_type": "display_data",
          "data": {
            "text/plain": [
              "<Figure size 640x480 with 1 Axes>"
            ],
            "image/png": "[encoded data removed]"
          },
          "metadata": {}
        },
        {
          "output_type": "display_data",
          "data": {
            "text/plain": [
              "<Figure size 640x480 with 1 Axes>"
            ],
            "image/png": "[encoded data removed]"
          },
          "metadata": {}
        }
      ]
    },
    {
      "cell_type": "markdown",
      "source": [
        "###Exp 9"
      ],
      "metadata": {
        "id": "vSgI5RkKjnOB"
      }
    },
    {
      "cell_type": "code",
      "source": [
        "seed="
      ],
      "metadata": {
        "id": "hV54PDWujqnK"
      },
      "execution_count": null,
      "outputs": []
    }
  ]
}